{
 "cells": [
  {
   "cell_type": "code",
   "execution_count": 76,
   "metadata": {},
   "outputs": [],
   "source": [
    "import pandas as pd\n",
    "import requests\n",
    "import re\n",
    "import os\n",
    "from dotenv import load_dotenv\n",
    "import json"
   ]
  },
  {
   "cell_type": "code",
   "execution_count": null,
   "metadata": {},
   "outputs": [],
   "source": [
    "load_dotenv()\n",
    "headers = json.loads(os.getenv(\"RAPIDAPI_HEADERS\"))"
   ]
  },
  {
   "cell_type": "code",
   "execution_count": null,
   "metadata": {},
   "outputs": [],
   "source": [
    "dataset = pd.read_csv('Data Calon Mitra - Prospek Penjualan.csv')\n",
    "dataset"
   ]
  },
  {
   "cell_type": "code",
   "execution_count": null,
   "metadata": {},
   "outputs": [],
   "source": [
    "links = dataset['Sumber postingan']\n",
    "links"
   ]
  },
  {
   "cell_type": "code",
   "execution_count": null,
   "metadata": {},
   "outputs": [],
   "source": [
    "ids = []\n",
    "pattern = re.compile(r'p/([^/]+)')\n",
    "for link in links:\n",
    "    if isinstance(link, (str, bytes)):\n",
    "        match = pattern.search(link)\n",
    "        if match:\n",
    "            ids.append(match.group(1))\n",
    "ids"
   ]
  },
  {
   "cell_type": "code",
   "execution_count": null,
   "metadata": {},
   "outputs": [],
   "source": [
    "print(len(ids))"
   ]
  },
  {
   "cell_type": "code",
   "execution_count": null,
   "metadata": {},
   "outputs": [],
   "source": [
    "data = []\n",
    "for id in ids:\n",
    "    url_post = \"https://instagram-scraper-api2.p.rapidapi.com/v1/post_info\"\n",
    "\n",
    "    querystring_post = {\"code_or_id_or_url\":f\"{id}\",\"include_insights\":\"true\"}\n",
    "\n",
    "    headers_post = headers\n",
    "\n",
    "    response_post = requests.get(url_post, headers=headers_post, params=querystring_post)\n",
    "\n",
    "    result_post = response_post.json()\n",
    "    \n",
    "    username = result_post['data']['user']['username']\n",
    "    caption = result_post['data']['caption']['text']\n",
    "\n",
    "    details = {\n",
    "        'username': username,\n",
    "        'caption' : caption\n",
    "    }\n",
    "\n",
    "    data.append(details)"
   ]
  },
  {
   "cell_type": "markdown",
   "metadata": {},
   "source": [
    "#### Draft"
   ]
  },
  {
   "cell_type": "code",
   "execution_count": 22,
   "metadata": {},
   "outputs": [],
   "source": [
    "import requests\n",
    "\n",
    "url = \"https://instagram-scraper-api2.p.rapidapi.com/v1/post_info\"\n",
    "\n",
    "querystring = {\"code_or_id_or_url\":\"C-4-nT7ymhb\",\"include_insights\":\"true\"}\n",
    "\n",
    "headers = {\n",
    "\t\"x-rapidapi-key\": \"8785f3d0acmsh634b5d6d08b46c9p11d2eajsna5b0ae843c23\",\n",
    "\t\"x-rapidapi-host\": \"instagram-scraper-api2.p.rapidapi.com\"\n",
    "}\n",
    "\n",
    "response = requests.get(url, headers=headers, params=querystring)\n",
    "\n",
    "result = response.json()"
   ]
  },
  {
   "cell_type": "code",
   "execution_count": null,
   "metadata": {},
   "outputs": [],
   "source": [
    "result = response.json()\n",
    "result"
   ]
  },
  {
   "cell_type": "code",
   "execution_count": null,
   "metadata": {},
   "outputs": [],
   "source": [
    "result['data']['user']['username']"
   ]
  },
  {
   "cell_type": "code",
   "execution_count": null,
   "metadata": {},
   "outputs": [],
   "source": [
    "result['data']['caption']['text']"
   ]
  },
  {
   "cell_type": "code",
   "execution_count": null,
   "metadata": {},
   "outputs": [],
   "source": [
    "url_post = \"https://instagram-scraper-api2.p.rapidapi.com/v1/post_info\"\n",
    "\n",
    "querystring_post = {\"code_or_id_or_url\":\"C-4-nT7ymhb\",\"include_insights\":\"true\"}\n",
    "\n",
    "headers_post = headers\n",
    "\n",
    "response_post = requests.get(url_post, headers=headers_post, params=querystring_post)\n",
    "\n",
    "result_post = response_post.json()\n",
    "\n",
    "username = result_post['data']['user']['username']\n",
    "caption = result_post['data']['caption']['text']\n",
    "\n",
    "details = {\n",
    "    'username': username,\n",
    "    'caption' : caption\n",
    "}\n",
    "\n",
    "print(details)"
   ]
  }
 ],
 "metadata": {
  "kernelspec": {
   "display_name": ".venv",
   "language": "python",
   "name": "python3"
  },
  "language_info": {
   "codemirror_mode": {
    "name": "ipython",
    "version": 3
   },
   "file_extension": ".py",
   "mimetype": "text/x-python",
   "name": "python",
   "nbconvert_exporter": "python",
   "pygments_lexer": "ipython3",
   "version": "3.12.0"
  }
 },
 "nbformat": 4,
 "nbformat_minor": 2
}
